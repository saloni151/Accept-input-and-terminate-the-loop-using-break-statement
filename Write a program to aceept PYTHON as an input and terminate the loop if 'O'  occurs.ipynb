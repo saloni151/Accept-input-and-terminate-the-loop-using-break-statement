{
 "cells": [
  {
   "cell_type": "code",
   "execution_count": 1,
   "id": "c5bb586b",
   "metadata": {},
   "outputs": [
    {
     "data": {
      "text/plain": [
       "\"Write a program to aceept PYTHON as an input and terminate the loop if 'O'  occurs \""
      ]
     },
     "execution_count": 1,
     "metadata": {},
     "output_type": "execute_result"
    }
   ],
   "source": [
    "\"Write a program to aceept PYTHON as an input and terminate the loop if 'O'  occurs \""
   ]
  },
  {
   "cell_type": "code",
   "execution_count": 2,
   "id": "6f554984",
   "metadata": {},
   "outputs": [],
   "source": [
    "s=\"PYTHON\""
   ]
  },
  {
   "cell_type": "code",
   "execution_count": 3,
   "id": "183aac4e",
   "metadata": {},
   "outputs": [
    {
     "name": "stdout",
     "output_type": "stream",
     "text": [
      "\t \n",
      " The character from the word Python P\n",
      "\t \n",
      " The character from the word Python Y\n",
      "\t \n",
      " The character from the word Python T\n",
      "\t \n",
      " The character from the word Python H\n",
      "Program is finished\n"
     ]
    }
   ],
   "source": [
    "for val in s:\n",
    "    if(val=='O'):\n",
    "        break\n",
    "    else:\n",
    "        print(\"\\t \\n The character from the word Python {}\".format(val))\n",
    "print(\"Program is finished\")"
   ]
  },
  {
   "cell_type": "code",
   "execution_count": null,
   "id": "a78c03c6",
   "metadata": {},
   "outputs": [],
   "source": []
  },
  {
   "cell_type": "code",
   "execution_count": null,
   "id": "f24f40c6",
   "metadata": {},
   "outputs": [],
   "source": []
  },
  {
   "cell_type": "code",
   "execution_count": null,
   "id": "7956a029",
   "metadata": {},
   "outputs": [],
   "source": []
  },
  {
   "cell_type": "code",
   "execution_count": null,
   "id": "043a2eca",
   "metadata": {},
   "outputs": [],
   "source": []
  },
  {
   "cell_type": "code",
   "execution_count": null,
   "id": "c715a031",
   "metadata": {},
   "outputs": [],
   "source": []
  },
  {
   "cell_type": "code",
   "execution_count": null,
   "id": "387a1fb8",
   "metadata": {},
   "outputs": [],
   "source": []
  },
  {
   "cell_type": "code",
   "execution_count": null,
   "id": "8a8b25c8",
   "metadata": {},
   "outputs": [],
   "source": []
  },
  {
   "cell_type": "code",
   "execution_count": null,
   "id": "ab506dc7",
   "metadata": {},
   "outputs": [],
   "source": []
  },
  {
   "cell_type": "code",
   "execution_count": null,
   "id": "f9532cd9",
   "metadata": {},
   "outputs": [],
   "source": []
  },
  {
   "cell_type": "code",
   "execution_count": null,
   "id": "9d4a1154",
   "metadata": {},
   "outputs": [],
   "source": []
  }
 ],
 "metadata": {
  "kernelspec": {
   "display_name": "Python 3 (ipykernel)",
   "language": "python",
   "name": "python3"
  },
  "language_info": {
   "codemirror_mode": {
    "name": "ipython",
    "version": 3
   },
   "file_extension": ".py",
   "mimetype": "text/x-python",
   "name": "python",
   "nbconvert_exporter": "python",
   "pygments_lexer": "ipython3",
   "version": "3.10.9"
  }
 },
 "nbformat": 4,
 "nbformat_minor": 5
}
